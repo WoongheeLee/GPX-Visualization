{
 "cells": [
  {
   "cell_type": "code",
   "execution_count": 104,
   "metadata": {},
   "outputs": [],
   "source": [
    "import matplotlib.pyplot as plt\n",
    "import re\n",
    "import numpy as np\n",
    "import seaborn as sns\n",
    "%matplotlib inline"
   ]
  },
  {
   "cell_type": "code",
   "execution_count": 2,
   "metadata": {},
   "outputs": [],
   "source": [
    "p = re.compile('[0-9]')"
   ]
  },
  {
   "cell_type": "markdown",
   "metadata": {},
   "source": [
    "|Zone|Intensity|Percentage of HRmax|\n",
    "|:-:|:-:|:-:|\n",
    "|Zone 1|Very light|50–60%|\n",
    "|Zone 2|Light|60–70%|\n",
    "|Zone 3|Moderate|70–80%|\n",
    "|Zone 4|Hard|80–90%|"
   ]
  },
  {
   "cell_type": "code",
   "execution_count": 97,
   "metadata": {},
   "outputs": [],
   "source": [
    "d = re.compile('\\d\\d\\d\\d-\\d\\d-\\d\\d')"
   ]
  },
  {
   "cell_type": "code",
   "execution_count": 129,
   "metadata": {},
   "outputs": [],
   "source": [
    "def add(zone_dict, zone):\n",
    "    zone = str(zone)\n",
    "    if zone in zone_dict.keys():\n",
    "        count = zone_dict.get(zone) + 1\n",
    "    else:\n",
    "        count = 1\n",
    "    zone_dict[zone]  = count\n",
    "    return zone_dict\n",
    "    \n",
    "def plot_hrzone(filename):\n",
    "\n",
    "    hr = []\n",
    "\n",
    "#     with open('./data/4013674297.gpx', 'rb') as f:\n",
    "    day = str()\n",
    "    with open(filename, 'rb') as f:\n",
    "        lines = f.readlines()\n",
    "\n",
    "        for i, l in enumerate(lines):\n",
    "            line = l.decode()\n",
    "            if \"<time>\" in line and \"</time>\" in line and len(day) == 0:\n",
    "                day = line[d.search(line).start():d.search(line).end()]\n",
    "\n",
    "            if \"<gpxtpx:hr>\" in line and \"</gpxtpx:hr>\" in line:\n",
    "                hr.append(int(''.join(p.findall(line))))\n",
    "\n",
    "\n",
    "\n",
    "    hr_max = 185\n",
    "\n",
    "    zone_dict = dict()\n",
    "\n",
    "    for i, h in enumerate(hr):\n",
    "        if h > hr_max * .9:\n",
    "            zone_dict = add(zone_dict, 5)\n",
    "        elif h > hr_max * .8:\n",
    "            zone_dict = add(zone_dict, 4)\n",
    "        elif h > hr_max * .7:\n",
    "            zone_dict = add(zone_dict, 3)\n",
    "        elif h > hr_max * .6:\n",
    "            zone_dict = add(zone_dict, 2)\n",
    "        elif h > hr_max * .5:\n",
    "            zone_dict = add(zone_dict, 1)\n",
    "        else:\n",
    "            zone_dict = add(zone_dict, 0)\n",
    "\n",
    "    for k, v in zone_dict.items():\n",
    "        zone_dict[k] = (zone_dict.get(k)/len(hr)) * 100\n",
    "\n",
    "    x, height = [], []\n",
    "\n",
    "    plt.figure(figsize=(10,5), dpi=60)\n",
    "    for i in range(6):\n",
    "        x.append(f\"[{hr_max*(i+4)/10:0.0f} ~ {hr_max*(i+5)/10:0.0f}]\")\n",
    "        height.append(zone_dict.get(str(i)))\n",
    "        \n",
    "    sns.barplot(x, height)\n",
    "    plt.ylabel(\"%\")\n",
    "    plt.xlabel(f\"heart rate zones\")\n",
    "    plt.title(f\"{day}, mean={np.mean(hr):0.0f}, max={max(hr)}\")\n",
    "    plt.ylim(0,100)\n",
    "    plt.show()"
   ]
  },
  {
   "cell_type": "code",
   "execution_count": 130,
   "metadata": {},
   "outputs": [
    {
     "data": {
      "image/png": "[encoded data removed]",
      "text/plain": [
       "<Figure size 600x300 with 1 Axes>"
      ]
     },
     "metadata": {
      "needs_background": "light"
     },
     "output_type": "display_data"
    }
   ],
   "source": [
    "plot_hrzone('./data/4013674297.gpx')"
   ]
  },
  {
   "cell_type": "code",
   "execution_count": 131,
   "metadata": {},
   "outputs": [
    {
     "data": {
      "image/png": "[encoded data removed]",
      "text/plain": [
       "<Figure size 600x300 with 1 Axes>"
      ]
     },
     "metadata": {
      "needs_background": "light"
     },
     "output_type": "display_data"
    }
   ],
   "source": [
    "plot_hrzone('./data/3984541086.gpx')"
   ]
  },
  {
   "cell_type": "code",
   "execution_count": 132,
   "metadata": {},
   "outputs": [
    {
     "data": {
      "image/png": "[encoded data removed]",
      "text/plain": [
       "<Figure size 600x300 with 1 Axes>"
      ]
     },
     "metadata": {
      "needs_background": "light"
     },
     "output_type": "display_data"
    }
   ],
   "source": [
    "plot_hrzone('./data/4008674679.gpx')"
   ]
  },
  {
   "cell_type": "code",
   "execution_count": null,
   "metadata": {},
   "outputs": [],
   "source": []
  },
  {
   "cell_type": "code",
   "execution_count": null,
   "metadata": {},
   "outputs": [],
   "source": []
  }
 ],
 "metadata": {
  "kernelspec": {
   "display_name": "Python 3",
   "language": "python",
   "name": "python3"
  },
  "language_info": {
   "codemirror_mode": {
    "name": "ipython",
    "version": 3
   },
   "file_extension": ".py",
   "mimetype": "text/x-python",
   "name": "python",
   "nbconvert_exporter": "python",
   "pygments_lexer": "ipython3",
   "version": "3.7.7"
  }
 },
 "nbformat": 4,
 "nbformat_minor": 4
}
